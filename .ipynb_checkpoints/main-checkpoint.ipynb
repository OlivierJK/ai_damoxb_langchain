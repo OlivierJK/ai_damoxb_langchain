{
 "cells": [
  {
   "cell_type": "code",
   "execution_count": 1,
   "id": "29a4a04a-e6e8-43a5-a92c-817487c75787",
   "metadata": {
    "execution": {
     "iopub.execute_input": "2025-09-17T09:31:26.515311Z",
     "iopub.status.busy": "2025-09-17T09:31:26.515121Z",
     "iopub.status.idle": "2025-09-17T09:31:26.519721Z",
     "shell.execute_reply": "2025-09-17T09:31:26.519315Z",
     "shell.execute_reply.started": "2025-09-17T09:31:26.515297Z"
    }
   },
   "outputs": [
    {
     "name": "stdout",
     "output_type": "stream",
     "text": [
      "Apple 17\n"
     ]
    }
   ],
   "source": [
    "print(\"Apple 17\")"
   ]
  },
  {
   "cell_type": "code",
   "execution_count": null,
   "id": "f98685a7-9848-42be-a2da-c90b807da362",
   "metadata": {},
   "outputs": [],
   "source": []
  }
 ],
 "metadata": {
  "kernelspec": {
   "display_name": "Python 3 (ipykernel)",
   "language": "python",
   "name": "python3"
  },
  "language_info": {
   "codemirror_mode": {
    "name": "ipython",
    "version": 3
   },
   "file_extension": ".py",
   "mimetype": "text/x-python",
   "name": "python",
   "nbconvert_exporter": "python",
   "pygments_lexer": "ipython3",
   "version": "3.11.11"
  }
 },
 "nbformat": 4,
 "nbformat_minor": 5
}
